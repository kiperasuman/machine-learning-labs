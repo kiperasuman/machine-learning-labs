{
 "cells": [
  {
   "cell_type": "code",
   "execution_count": 1,
   "id": "8361385d",
   "metadata": {
    "_cell_guid": "b1076dfc-b9ad-4769-8c92-a6c4dae69d19",
    "_uuid": "8f2839f25d086af736a60e9eeb907d3b93b6e0e5",
    "execution": {
     "iopub.execute_input": "2023-03-03T17:36:30.477483Z",
     "iopub.status.busy": "2023-03-03T17:36:30.476942Z",
     "iopub.status.idle": "2023-03-03T17:36:30.490462Z",
     "shell.execute_reply": "2023-03-03T17:36:30.489123Z"
    },
    "papermill": {
     "duration": 0.023337,
     "end_time": "2023-03-03T17:36:30.493553",
     "exception": false,
     "start_time": "2023-03-03T17:36:30.470216",
     "status": "completed"
    },
    "tags": []
   },
   "outputs": [
    {
     "name": "stdout",
     "output_type": "stream",
     "text": [
      "Hello\n"
     ]
    }
   ],
   "source": [
    "#Print fonksiyonu\n",
    "print(\"Hello\")\n",
    "\n",
    "#Değişkenler\n",
    "integer_value = 118\n",
    "string_value = \"Asuman Kiper\"\n",
    "float_value = 118.5"
   ]
  },
  {
   "cell_type": "code",
   "execution_count": 2,
   "id": "9f26e5eb",
   "metadata": {
    "execution": {
     "iopub.execute_input": "2023-03-03T17:36:30.502644Z",
     "iopub.status.busy": "2023-03-03T17:36:30.502201Z",
     "iopub.status.idle": "2023-03-03T17:36:30.510328Z",
     "shell.execute_reply": "2023-03-03T17:36:30.509015Z"
    },
    "papermill": {
     "duration": 0.016016,
     "end_time": "2023-03-03T17:36:30.513308",
     "exception": false,
     "start_time": "2023-03-03T17:36:30.497292",
     "status": "completed"
    },
    "tags": []
   },
   "outputs": [
    {
     "name": "stdout",
     "output_type": "stream",
     "text": [
      "[15, 15, 'Liste Kullanımı Örnekleri', 'Kaggle', 18.78, 0.99]\n",
      "Liste Kullanımı Örnekleri\n",
      "[15, 15, 'Liste Kullanımı Örnekleri', 'Kaggle', 18.78]\n",
      "[48, 0.99, 18.78, 'Kaggle', 15, 15]\n"
     ]
    }
   ],
   "source": [
    "# Python'da List Kullanımı \n",
    "value1 = 15 \n",
    "value2 = 15 \n",
    "value3 = \"Liste Kullanımı Örnekleri\" \n",
    "\n",
    "list = [value1 , value2 , value3 , \"Kaggle\" , 18.78 , 0.99]\n",
    "type(list) # type ile içine aldığı değerin tipini gösterir. float string,list,dictionary...\n",
    "print(list) #liste içindeki değerleri yazdırır\n",
    "print(list[2]) # listenin 3.değerini yani 2.indexi yazdırır\n",
    "\n",
    " # 0 dan 4 e kadar liste değerlerini yazdırır\n",
    "print(list[0:5])\n",
    "\n",
    "# listede işlemler\n",
    "list.append(48) #eleman ekleme\n",
    "list.remove(value3) #value3 listeden çıkartılır.\n",
    "list.reverse() #listeyi ters çevirir\n",
    "print(list)"
   ]
  },
  {
   "cell_type": "code",
   "execution_count": 3,
   "id": "722f8d95",
   "metadata": {
    "execution": {
     "iopub.execute_input": "2023-03-03T17:36:30.522486Z",
     "iopub.status.busy": "2023-03-03T17:36:30.522036Z",
     "iopub.status.idle": "2023-03-03T17:36:30.529186Z",
     "shell.execute_reply": "2023-03-03T17:36:30.527683Z"
    },
    "papermill": {
     "duration": 0.01532,
     "end_time": "2023-03-03T17:36:30.532194",
     "exception": false,
     "start_time": "2023-03-03T17:36:30.516874",
     "status": "completed"
    },
    "tags": []
   },
   "outputs": [
    {
     "name": "stdout",
     "output_type": "stream",
     "text": [
      "194\n"
     ]
    }
   ],
   "source": [
    "liste = [18,15,22,60,1,78,0]\n",
    "topla = 0\n",
    "for element in liste:\n",
    " topla = topla + element\n",
    "print(topla)\n"
   ]
  },
  {
   "cell_type": "code",
   "execution_count": 4,
   "id": "bbdeb4b5",
   "metadata": {
    "execution": {
     "iopub.execute_input": "2023-03-03T17:36:30.541254Z",
     "iopub.status.busy": "2023-03-03T17:36:30.540806Z",
     "iopub.status.idle": "2023-03-03T17:36:30.548640Z",
     "shell.execute_reply": "2023-03-03T17:36:30.547328Z"
    },
    "papermill": {
     "duration": 0.015591,
     "end_time": "2023-03-03T17:36:30.551390",
     "exception": false,
     "start_time": "2023-03-03T17:36:30.535799",
     "status": "completed"
    },
    "tags": []
   },
   "outputs": [
    {
     "name": "stdout",
     "output_type": "stream",
     "text": [
      "-78\n"
     ]
    }
   ],
   "source": [
    "minimum=10000\n",
    "liste = [18,-77,22,60,1,78,-78]\n",
    "for element in liste:\n",
    "    \n",
    "    if(element<minimum):\n",
    "        \n",
    "        minimum=element\n",
    "        \n",
    "    else:\n",
    "        \n",
    "        continue #else durumunda hiçbir şey yapmadan devam edilir.\n",
    "        \n",
    "print(minimum)"
   ]
  },
  {
   "cell_type": "code",
   "execution_count": 5,
   "id": "5da093f3",
   "metadata": {
    "execution": {
     "iopub.execute_input": "2023-03-03T17:36:30.560361Z",
     "iopub.status.busy": "2023-03-03T17:36:30.559946Z",
     "iopub.status.idle": "2023-03-03T17:36:30.568054Z",
     "shell.execute_reply": "2023-03-03T17:36:30.566590Z"
    },
    "papermill": {
     "duration": 0.015776,
     "end_time": "2023-03-03T17:36:30.570762",
     "exception": false,
     "start_time": "2023-03-03T17:36:30.554986",
     "status": "completed"
    },
    "tags": []
   },
   "outputs": [
    {
     "name": "stdout",
     "output_type": "stream",
     "text": [
      "1.değişken daha büyüktür -> 78\n",
      " \n",
      " **Döngüye Giriliyor**\n",
      "2\n",
      "4\n",
      "6\n",
      "8\n",
      "10\n",
      "12\n",
      "14\n",
      "16\n"
     ]
    }
   ],
   "source": [
    "variable = 78 \n",
    "variable2 = 48 \n",
    "if (variable > variable2):\n",
    " print(\"1.değişken daha büyüktür -> {}\".format(variable))\n",
    "elif (variable2 > variable):\n",
    " print(\"2.değişken daha büyüktür -> {}\".format(variable2))\n",
    "else :\n",
    " print(\"1.değişken {} ve 2.değişken {} -> Değerler eşittir\".format(variable , variable2))\n",
    "\n",
    "# While Döngüsü \n",
    "i = 0 \n",
    "print(\" \\n **Döngüye Giriliyor**\")\n",
    "while(i < 15):\n",
    "  i = i+2\n",
    "  print(i)\n"
   ]
  },
  {
   "cell_type": "code",
   "execution_count": 6,
   "id": "c7f1a772",
   "metadata": {
    "execution": {
     "iopub.execute_input": "2023-03-03T17:36:30.580238Z",
     "iopub.status.busy": "2023-03-03T17:36:30.579831Z",
     "iopub.status.idle": "2023-03-03T17:36:30.589248Z",
     "shell.execute_reply": "2023-03-03T17:36:30.587827Z"
    },
    "papermill": {
     "duration": 0.01727,
     "end_time": "2023-03-03T17:36:30.591951",
     "exception": false,
     "start_time": "2023-03-03T17:36:30.574681",
     "status": "completed"
    },
    "tags": []
   },
   "outputs": [
    {
     "data": {
      "text/plain": [
       "18.84"
      ]
     },
     "execution_count": 6,
     "metadata": {},
     "output_type": "execute_result"
    }
   ],
   "source": [
    "# Pythonda Fonksiyon Kullanımı \n",
    "def cevre_hesaplama(yaricap , pi = 3.14):\n",
    "    sonuc = 2 * pi * yaricap\n",
    "    return sonuc\n",
    "# fonksiyon adını çağırıp parametre olarak yaricap değerini veriyoruz\n",
    "cevre_hesaplama(3)"
   ]
  },
  {
   "cell_type": "code",
   "execution_count": 7,
   "id": "9f831852",
   "metadata": {
    "execution": {
     "iopub.execute_input": "2023-03-03T17:36:30.602289Z",
     "iopub.status.busy": "2023-03-03T17:36:30.601308Z",
     "iopub.status.idle": "2023-03-03T17:36:30.609902Z",
     "shell.execute_reply": "2023-03-03T17:36:30.608519Z"
    },
    "papermill": {
     "duration": 0.016693,
     "end_time": "2023-03-03T17:36:30.612532",
     "exception": false,
     "start_time": "2023-03-03T17:36:30.595839",
     "status": "completed"
    },
    "tags": []
   },
   "outputs": [
    {
     "data": {
      "text/plain": [
       "25"
      ]
     },
     "execution_count": 7,
     "metadata": {},
     "output_type": "execute_result"
    }
   ],
   "source": [
    "def karesini_al(sayi): \n",
    "    sonuc = sayi * sayi\n",
    "    return sonuc\n",
    "karesini_al(5)"
   ]
  },
  {
   "cell_type": "code",
   "execution_count": 8,
   "id": "f2935c89",
   "metadata": {
    "execution": {
     "iopub.execute_input": "2023-03-03T17:36:30.622458Z",
     "iopub.status.busy": "2023-03-03T17:36:30.621976Z",
     "iopub.status.idle": "2023-03-03T17:36:30.630672Z",
     "shell.execute_reply": "2023-03-03T17:36:30.629189Z"
    },
    "papermill": {
     "duration": 0.016781,
     "end_time": "2023-03-03T17:36:30.633225",
     "exception": false,
     "start_time": "2023-03-03T17:36:30.616444",
     "status": "completed"
    },
    "tags": []
   },
   "outputs": [
    {
     "name": "stdout",
     "output_type": "stream",
     "text": [
      "1995\n",
      "dict_values([1970, 1995, 1979, 1991, 2017])\n",
      "C Programlama Dili\n",
      "Java\n",
      "C++\n",
      "Python\n",
      "Flutter\n",
      "1970\n",
      "1995\n",
      "1979\n",
      "1991\n",
      "2017\n"
     ]
    }
   ],
   "source": [
    "# Dictionary Kullanımı\n",
    "# Dictionary bir key bir de value değeri alır \n",
    "dictionary = {\"C Programlama Dili\": 1970 , \"Java\" : 1995 ,\"C++\" : 1979 , \"Python\" : 1991, \"Flutter\" : 2017}\n",
    "type(dictionary)\n",
    "#key kullanarak value değerine erişelim\n",
    "print(dictionary[\"Java\"])\n",
    "#values metodunu kullanark dict deki valuelere erişiriz \n",
    "#keys kullanırsak da dictionary deki key değerleri gelir\n",
    "print(dictionary.values())\n",
    "\n",
    "#For Döngüsü Kullanılarak Anahtara Erişim sağlanırsa : \n",
    "for dic_element in dictionary:\n",
    "    print(dic_element)\n",
    "#For Döngüsü Kullanılarak Değere Erişim sağlanırsa : \n",
    "for dic_element in dictionary.values():\n",
    "    print(dic_element)   "
   ]
  },
  {
   "cell_type": "markdown",
   "id": "e666e756",
   "metadata": {
    "papermill": {
     "duration": 0.003689,
     "end_time": "2023-03-03T17:36:30.640899",
     "exception": false,
     "start_time": "2023-03-03T17:36:30.637210",
     "status": "completed"
    },
    "tags": []
   },
   "source": [
    "### "
   ]
  }
 ],
 "metadata": {
  "kernelspec": {
   "display_name": "Python 3",
   "language": "python",
   "name": "python3"
  },
  "language_info": {
   "codemirror_mode": {
    "name": "ipython",
    "version": 3
   },
   "file_extension": ".py",
   "mimetype": "text/x-python",
   "name": "python",
   "nbconvert_exporter": "python",
   "pygments_lexer": "ipython3",
   "version": "3.7.12"
  },
  "papermill": {
   "default_parameters": {},
   "duration": 12.422901,
   "end_time": "2023-03-03T17:36:31.267972",
   "environment_variables": {},
   "exception": null,
   "input_path": "__notebook__.ipynb",
   "output_path": "__notebook__.ipynb",
   "parameters": {},
   "start_time": "2023-03-03T17:36:18.845071",
   "version": "2.4.0"
  }
 },
 "nbformat": 4,
 "nbformat_minor": 5
}
