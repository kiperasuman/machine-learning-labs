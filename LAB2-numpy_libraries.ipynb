{
 "cells": [
  {
   "cell_type": "raw",
   "id": "912134ce",
   "metadata": {},
   "source": [
    "# Numpy kütüphanesi matris,dizi,cebirsel işlemlerinde kullanılan Python kütüphanesidir . Bu kütüphaneyi kullanmak için import edilmesi gereklidir."
   ]
  },
  {
   "cell_type": "code",
   "execution_count": 3,
   "id": "d07b10a5",
   "metadata": {},
   "outputs": [],
   "source": [
    "import numpy as np"
   ]
  },
  {
   "cell_type": "code",
   "execution_count": 4,
   "id": "bb1829c7",
   "metadata": {},
   "outputs": [
    {
     "name": "stdout",
     "output_type": "stream",
     "text": [
      "[10 20 30]\n"
     ]
    }
   ],
   "source": [
    "dizi = np.array([10,20,30])\n",
    "print(dizi)"
   ]
  },
  {
   "cell_type": "code",
   "execution_count": 6,
   "id": "afa02b49",
   "metadata": {},
   "outputs": [
    {
     "name": "stdout",
     "output_type": "stream",
     "text": [
      "(3,)\n"
     ]
    }
   ],
   "source": [
    "#Yukarıdaki kod bloğunda 1*3 lük bir matris oluşturuldu.Bunu shape fonksiyonunu kullanarak gösterelim.\n",
    "print(dizi.shape)"
   ]
  },
  {
   "cell_type": "code",
   "execution_count": 8,
   "id": "dce239ae",
   "metadata": {},
   "outputs": [
    {
     "name": "stdout",
     "output_type": "stream",
     "text": [
      "[[10]\n",
      " [20]\n",
      " [30]]\n"
     ]
    }
   ],
   "source": [
    "#Oluşturulan vektörü tekrar boyutlandrmak için reshape metodu kullanılır\n",
    "#Şimdi oluşturulan dizi 3 satır 1 sütundan oluşan 3*1 lik matristir.\n",
    "# !Dikkat! matris boyutlandırılırken reshape içine yazılan sayıların çarpımı dizinin eleman sayısına eşit olmalıdır\n",
    "yeni_dizi = dizi.reshape(3,1)\n",
    "print(yeni_dizi)"
   ]
  },
  {
   "cell_type": "code",
   "execution_count": 22,
   "id": "d21e1068",
   "metadata": {},
   "outputs": [
    {
     "name": "stdout",
     "output_type": "stream",
     "text": [
      "Manuel olarak oluşturulan dizi : \n",
      " [[10 20 30]\n",
      " [40 50 60]\n",
      " [70 80 90]]\n",
      "\n",
      "Matris Boyutu :  2\n",
      "Matris veri tipi :  int32\n",
      "Matris'in Eski Boyutu :  9\n",
      "Type:  <class 'numpy.ndarray'>\n"
     ]
    }
   ],
   "source": [
    "array = np.array([10,20,30,40,50,60,70,80,90])\n",
    "# reshape yapmadan dizi boyutunu değiştirmek istersek [] içine yazılan değerler satırları ifade etmekte olup her satır virgül ile ayrılır\n",
    "yeni_dizi_manuel = np.array([[10,20,30],[40,50,60],[70,80,90]])\n",
    "print(\"Manuel olarak oluşturulan dizi : \\n\" , yeni_dizi_manuel)\n",
    "new = array.reshape(3,3)\n",
    "print(\"\\nMatris Boyutu : \" , new.ndim)\n",
    "print(\"Matris veri tipi : \" ,new.dtype.name)\n",
    "print(\"Matris'in Eski Boyutu : \" ,new.size)\n",
    "print(\"Type: \" , type(new))"
   ]
  },
  {
   "cell_type": "code",
   "execution_count": 40,
   "id": "b243e8a1",
   "metadata": {},
   "outputs": [
    {
     "name": "stdout",
     "output_type": "stream",
     "text": [
      "[[0. 0. 0. 0.]\n",
      " [0. 0. 0. 0.]\n",
      " [0. 0. 0. 0.]\n",
      " [0. 0. 0. 0.]]\n",
      "\n",
      "\n",
      "[[1. 1. 1. 1.]\n",
      " [1. 1. 1. 1.]\n",
      " [1. 1. 1. 1.]\n",
      " [1. 1. 1. 1.]]\n",
      "\n",
      "\n",
      "[[0. 0. 0. 0.]\n",
      " [0. 0. 0. 5.]\n",
      " [0. 0. 0. 9.]\n",
      " [0. 0. 7. 0.]]\n"
     ]
    }
   ],
   "source": [
    "# zeros ve ones metodları kullanılarak oluşturulam matrise 0 ve 1 değerleri atanabilir\n",
    "zero= np.zeros((4,4))\n",
    "print(zero)\n",
    "\n",
    "print(\"\\n\")\n",
    "\n",
    "ones = np.ones((4,4))\n",
    "print(ones)\n",
    "\n",
    "print(\"\\n\")\n",
    "\n",
    "zero[3,2]=7\n",
    "zero[1,3]=5\n",
    "zero[2,3]=9\n",
    "zero[2,2]=0\n",
    "print(zero) \n"
   ]
  },
  {
   "cell_type": "code",
   "execution_count": 45,
   "id": "88c12936",
   "metadata": {},
   "outputs": [
    {
     "data": {
      "text/plain": [
       "array([ 0.        ,  0.52631579,  1.05263158,  1.57894737,  2.10526316,\n",
       "        2.63157895,  3.15789474,  3.68421053,  4.21052632,  4.73684211,\n",
       "        5.26315789,  5.78947368,  6.31578947,  6.84210526,  7.36842105,\n",
       "        7.89473684,  8.42105263,  8.94736842,  9.47368421, 10.        ])"
      ]
     },
     "execution_count": 45,
     "metadata": {},
     "output_type": "execute_result"
    }
   ],
   "source": [
    "#boş matris oluşturuken değer atanması yapılmayan arraylere rastgele değer atanır\n",
    "np.empty((3,7))\n",
    "#sayıları üçer üçer 1'den 25'e kadar matris şeklinde yazdıralım\n",
    "np.arange(1,25,3) \n",
    "#bu sefer üçer üçer değil de aralık verip kaç değer yazdırması gerektiğini gösterelim\n",
    "#0 dan 10'a kadar 20 tane değeri yazdırıyoruz\n",
    "np.linspace(0,10,20)"
   ]
  },
  {
   "cell_type": "code",
   "execution_count": 48,
   "id": "ee3efff7",
   "metadata": {},
   "outputs": [
    {
     "name": "stdout",
     "output_type": "stream",
     "text": [
      "[5 7 9]\n",
      "[ 4 10 18]\n"
     ]
    }
   ],
   "source": [
    "# Numpy ile Temel İşlemler\n",
    "a = np.array([1,2,3])\n",
    "b = np.array([4,5,6])\n",
    "print(a+b)\n",
    "# matriste toplama , çarpma.. işlemleri aynı satır ve sütunlar toplanarak yapılır \n",
    "print(a*b)"
   ]
  },
  {
   "cell_type": "code",
   "execution_count": 50,
   "id": "cbef63aa",
   "metadata": {},
   "outputs": [
    {
     "name": "stdout",
     "output_type": "stream",
     "text": [
      "[7 2 3] [7 2 3] [7 2 3]\n"
     ]
    }
   ],
   "source": [
    "b=a \n",
    "c=a\n",
    "b[0]=7\n",
    "print(a,b,c)"
   ]
  },
  {
   "cell_type": "code",
   "execution_count": 62,
   "id": "ccbf2bd7",
   "metadata": {},
   "outputs": [
    {
     "name": "stdout",
     "output_type": "stream",
     "text": [
      "99\n",
      "[15 66 99  0]\n",
      "[45 78 55]\n",
      "[14 78 99 10]\n",
      "[60  0 10]\n"
     ]
    }
   ],
   "source": [
    "matris = np.array([[45,78,55,60],[15,66,99,0],[14,78,99,10]])\n",
    "copy = matris.copy()\n",
    "print(matris[2,2])\n",
    "print(matris[1,:])\n",
    "print(matris[0,0:3])\n",
    "print(matris[-1,:])\n",
    "print(matris[:,-1])"
   ]
  },
  {
   "cell_type": "code",
   "execution_count": 66,
   "id": "f58bd33b",
   "metadata": {},
   "outputs": [
    {
     "name": "stdout",
     "output_type": "stream",
     "text": [
      "[45 78 55 60 15 66 99  0 14 78 99 10]\n",
      "[[45 15 14]\n",
      " [78 66 78]\n",
      " [55 99 99]\n",
      " [60  0 10]]\n"
     ]
    }
   ],
   "source": [
    "# Çok boyutlu bir matrisi tek boyutlu hale getirmek için ravel metodu kullanılır\n",
    "ravel = matris.ravel()\n",
    "print(ravel)\n",
    "#matriste traspose işlemi satır ve sütunların değişimi ile olur\n",
    "transpose = matris.T\n",
    "print(transpose)"
   ]
  },
  {
   "cell_type": "code",
   "execution_count": null,
   "id": "8f00eecc",
   "metadata": {},
   "outputs": [],
   "source": []
  }
 ],
 "metadata": {
  "kernelspec": {
   "display_name": "Python 3 (ipykernel)",
   "language": "python",
   "name": "python3"
  },
  "language_info": {
   "codemirror_mode": {
    "name": "ipython",
    "version": 3
   },
   "file_extension": ".py",
   "mimetype": "text/x-python",
   "name": "python",
   "nbconvert_exporter": "python",
   "pygments_lexer": "ipython3",
   "version": "3.9.13"
  }
 },
 "nbformat": 4,
 "nbformat_minor": 5
}
