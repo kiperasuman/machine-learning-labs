{
 "cells": [
  {
   "cell_type": "raw",
   "id": "4eb7de37",
   "metadata": {},
   "source": [
    "Pandas kütüphanesi pythonda kullanılan dictionary gibi verilerin işlenmesi , sayısal olarak tablolaştırılamsında kullanılır.\n",
    "Kullanmak için numpy ve matplotlib de yaptığımız gibi pandas kütüphanesini eklemeliyiz."
   ]
  },
  {
   "cell_type": "code",
   "execution_count": 1,
   "id": "8b2235f8",
   "metadata": {},
   "outputs": [],
   "source": [
    "import pandas as pd"
   ]
  },
  {
   "cell_type": "code",
   "execution_count": 5,
   "id": "0158663f",
   "metadata": {},
   "outputs": [
    {
     "name": "stdout",
     "output_type": "stream",
     "text": [
      "     name  age  ortalama\n",
      "0  asuman   23        78\n",
      "1    enes   15        80\n",
      "2    elif   20        65\n",
      "3     can   34        90\n",
      "4  zeynep   47        63\n"
     ]
    }
   ],
   "source": [
    "dictionary = {\"name\":[\"asuman\",\"enes\",\"elif\",\"can\",\"zeynep\"],\"age\":[23,15,20,34,47],\n",
    "             \"ortalama\":[78,80,65,90,63]}\n",
    "tablo = pd.DataFrame(dictionary)\n",
    "print(tablo)"
   ]
  },
  {
   "cell_type": "code",
   "execution_count": 8,
   "id": "f4c367ad",
   "metadata": {},
   "outputs": [
    {
     "name": "stdout",
     "output_type": "stream",
     "text": [
      "     name  age  ortalama\n",
      "0  asuman   23        78\n",
      "1    enes   15        80\n",
      "2    elif   20        65\n",
      "3     can   34        90\n",
      "4  zeynep   47        63\n"
     ]
    }
   ],
   "source": [
    "tail = tablo.tail() \n",
    "# dışarıdan bir veri import edildiğinde içeriğine bakmak için\n",
    "# head ya da tail kullanılır\n",
    "print(tail)"
   ]
  },
  {
   "cell_type": "raw",
   "id": "ef844533",
   "metadata": {},
   "source": [
    "Pandas İle Temel İşlemler"
   ]
  },
  {
   "cell_type": "code",
   "execution_count": 11,
   "id": "e9d85074",
   "metadata": {},
   "outputs": [
    {
     "name": "stdout",
     "output_type": "stream",
     "text": [
      "<class 'pandas.core.frame.DataFrame'>\n",
      "RangeIndex: 5 entries, 0 to 4\n",
      "Data columns (total 3 columns):\n",
      " #   Column    Non-Null Count  Dtype \n",
      "---  ------    --------------  ----- \n",
      " 0   name      5 non-null      object\n",
      " 1   age       5 non-null      int64 \n",
      " 2   ortalama  5 non-null      int64 \n",
      "dtypes: int64(2), object(1)\n",
      "memory usage: 248.0+ bytes\n",
      "None\n",
      "\n",
      " ---------- \n",
      "\n",
      "name        object\n",
      "age          int64\n",
      "ortalama     int64\n",
      "dtype: object\n"
     ]
    }
   ],
   "source": [
    "#info ile oluşturulan tablo hakkında bilgi alabiliriz\n",
    "print(tablo.info())\n",
    "print(\"\\n ---------- \\n\")\n",
    "#oluşturulan tablodaki her bir sütunun type'ını dtypes ile buluruz\n",
    "print(tablo.dtypes)"
   ]
  },
  {
   "cell_type": "raw",
   "id": "591b577e",
   "metadata": {},
   "source": [
    "Indexing and Slicing"
   ]
  },
  {
   "cell_type": "code",
   "execution_count": 27,
   "id": "199af05a",
   "metadata": {},
   "outputs": [
    {
     "name": "stdout",
     "output_type": "stream",
     "text": [
      "0    asuman\n",
      "1      enes\n",
      "2      elif\n",
      "3       can\n",
      "4    zeynep\n",
      "Name: name, dtype: object\n",
      "\n",
      " 0    23\n",
      "1    15\n",
      "2    20\n",
      "3    34\n",
      "Name: age, dtype: int64\n",
      "\n",
      "      name  age  ortalama\n",
      "0  asuman   23        78\n",
      "1    enes   15        80\n",
      "2    elif   20        65\n",
      "3     can   34        90\n",
      "4  zeynep   47        63\n",
      "\n",
      "      name  age  ortalama\n",
      "4  zeynep   47        63\n",
      "3     can   34        90\n",
      "2    elif   20        65\n",
      "1    enes   15        80\n",
      "0  asuman   23        78\n",
      "\n",
      "      name\n",
      "0  asuman\n",
      "1    enes\n",
      "2    elif\n",
      "3     can\n",
      "4  zeynep\n"
     ]
    }
   ],
   "source": [
    "print(tablo[\"name\"]) #sadece isimleri getirir\n",
    "print(\"\\n\",tablo.loc[:3,\"age\"]) #age sütununu getirirken kullanırız -> 0'dan 4'e kadar age değerlerini getirir\n",
    "print(\"\\n\",tablo.loc[:,\"name\":\"ortalama\"])# name den ortalama ya kadar değerleri tüm satırlar için getirir\n",
    "print(\"\\n\",tablo.loc[::-1]) #verilen indeksleri tersten yazdırır yani zeynep ismi başa asuman ismi sona gelir \n",
    "print(\"\\n\" ,tablo.iloc[:,[0]]) #0.indeksteki sütunun tüm satırlarını yazdırır"
   ]
  },
  {
   "cell_type": "raw",
   "id": "d06d979b",
   "metadata": {},
   "source": [
    "Verileri Filtreleyerek Getirmek"
   ]
  },
  {
   "cell_type": "code",
   "execution_count": 32,
   "id": "e3d3b7cf",
   "metadata": {},
   "outputs": [
    {
     "name": "stdout",
     "output_type": "stream",
     "text": [
      "   ortalama   bool\n",
      "0        78   True\n",
      "1        80   True\n",
      "2        65  False\n",
      "3        90   True\n",
      "4        63  False\n"
     ]
    }
   ],
   "source": [
    "filtre = tablo.ortalama>75#not ortalaması 75'ten büyük olanlar filtrelendi\n",
    "tablo[\"bool\"]= filtre\n",
    "print(tablo.loc[:,[\"ortalama\",\"bool\"]])"
   ]
  },
  {
   "cell_type": "code",
   "execution_count": 33,
   "id": "246bf5d8",
   "metadata": {},
   "outputs": [
    {
     "name": "stdout",
     "output_type": "stream",
     "text": [
      "     name  age  ortalama  bool\n",
      "0  asuman   23        78  True\n",
      "1    enes   15        80  True\n",
      "3     can   34        90  True\n"
     ]
    }
   ],
   "source": [
    "filtrelenmis= tablo[filtre] # filtrelenmiş hali tabloda düzenlendi\n",
    "print(filtrelenmis)"
   ]
  },
  {
   "cell_type": "code",
   "execution_count": 36,
   "id": "90b45eaa",
   "metadata": {},
   "outputs": [
    {
     "name": "stdout",
     "output_type": "stream",
     "text": [
      "     name  age  ortalama  bool\n",
      "0  asuman   23        78  True\n",
      "3     can   34        90  True\n"
     ]
    }
   ],
   "source": [
    "age_filtre = tablo.age>22\n",
    "yeni_filtre = tablo[age_filtre&filtre] #hem yaş hem de ortalama olarak tutan değerleri aldık\n",
    "print(yeni_filtre)\n"
   ]
  },
  {
   "cell_type": "raw",
   "id": "752b7947",
   "metadata": {},
   "source": [
    "List Comprehension"
   ]
  },
  {
   "cell_type": "code",
   "execution_count": 37,
   "id": "53f09780",
   "metadata": {},
   "outputs": [
    {
     "name": "stdout",
     "output_type": "stream",
     "text": [
      "75.2\n"
     ]
    }
   ],
   "source": [
    "ortalama_not = tablo.ortalama.mean() #pandas ile ortalama bulma \n",
    "print(ortalama_not)"
   ]
  },
  {
   "cell_type": "code",
   "execution_count": 38,
   "id": "11d9db30",
   "metadata": {},
   "outputs": [
    {
     "data": {
      "text/html": [
       "<div>\n",
       "<style scoped>\n",
       "    .dataframe tbody tr th:only-of-type {\n",
       "        vertical-align: middle;\n",
       "    }\n",
       "\n",
       "    .dataframe tbody tr th {\n",
       "        vertical-align: top;\n",
       "    }\n",
       "\n",
       "    .dataframe thead th {\n",
       "        text-align: right;\n",
       "    }\n",
       "</style>\n",
       "<table border=\"1\" class=\"dataframe\">\n",
       "  <thead>\n",
       "    <tr style=\"text-align: right;\">\n",
       "      <th></th>\n",
       "      <th>name</th>\n",
       "      <th>age</th>\n",
       "      <th>ortalama</th>\n",
       "      <th>bool</th>\n",
       "      <th>ortalama_not</th>\n",
       "    </tr>\n",
       "  </thead>\n",
       "  <tbody>\n",
       "    <tr>\n",
       "      <th>0</th>\n",
       "      <td>asuman</td>\n",
       "      <td>23</td>\n",
       "      <td>78</td>\n",
       "      <td>True</td>\n",
       "      <td>ortalamanın üstünde</td>\n",
       "    </tr>\n",
       "    <tr>\n",
       "      <th>1</th>\n",
       "      <td>enes</td>\n",
       "      <td>15</td>\n",
       "      <td>80</td>\n",
       "      <td>True</td>\n",
       "      <td>ortalamanın üstünde</td>\n",
       "    </tr>\n",
       "    <tr>\n",
       "      <th>2</th>\n",
       "      <td>elif</td>\n",
       "      <td>20</td>\n",
       "      <td>65</td>\n",
       "      <td>False</td>\n",
       "      <td>ortalamanın altında</td>\n",
       "    </tr>\n",
       "    <tr>\n",
       "      <th>3</th>\n",
       "      <td>can</td>\n",
       "      <td>34</td>\n",
       "      <td>90</td>\n",
       "      <td>True</td>\n",
       "      <td>ortalamanın üstünde</td>\n",
       "    </tr>\n",
       "    <tr>\n",
       "      <th>4</th>\n",
       "      <td>zeynep</td>\n",
       "      <td>47</td>\n",
       "      <td>63</td>\n",
       "      <td>False</td>\n",
       "      <td>ortalamanın altında</td>\n",
       "    </tr>\n",
       "  </tbody>\n",
       "</table>\n",
       "</div>"
      ],
      "text/plain": [
       "     name  age  ortalama   bool         ortalama_not\n",
       "0  asuman   23        78   True  ortalamanın üstünde\n",
       "1    enes   15        80   True  ortalamanın üstünde\n",
       "2    elif   20        65  False  ortalamanın altında\n",
       "3     can   34        90   True  ortalamanın üstünde\n",
       "4  zeynep   47        63  False  ortalamanın altında"
      ]
     },
     "execution_count": 38,
     "metadata": {},
     "output_type": "execute_result"
    }
   ],
   "source": [
    "tablo[\"ortalama_not\"]= [\"ortalamanın altında\" if tablo.ortalama.mean()>each else \"ortalamanın üstünde\" for each in tablo.ortalama]\n",
    "tablo"
   ]
  },
  {
   "cell_type": "code",
   "execution_count": 42,
   "id": "63bf45cc",
   "metadata": {},
   "outputs": [
    {
     "name": "stdout",
     "output_type": "stream",
     "text": [
      "Index(['NAME', 'AGE', 'ORTALAMA', 'BOOL', 'ORTALAMA_NOT'], dtype='object')\n"
     ]
    }
   ],
   "source": [
    "tablo.columns = [each.upper() for each in tablo.columns]\n",
    "print(tablo.columns)#tabodaki her sütun adının büyük harfle yazılması\n"
   ]
  },
  {
   "cell_type": "raw",
   "id": "c7138dfd",
   "metadata": {},
   "source": [
    "Concatenating Data"
   ]
  },
  {
   "cell_type": "code",
   "execution_count": 44,
   "id": "17eabdb2",
   "metadata": {
    "scrolled": true
   },
   "outputs": [
    {
     "data": {
      "text/html": [
       "<div>\n",
       "<style scoped>\n",
       "    .dataframe tbody tr th:only-of-type {\n",
       "        vertical-align: middle;\n",
       "    }\n",
       "\n",
       "    .dataframe tbody tr th {\n",
       "        vertical-align: top;\n",
       "    }\n",
       "\n",
       "    .dataframe thead th {\n",
       "        text-align: right;\n",
       "    }\n",
       "</style>\n",
       "<table border=\"1\" class=\"dataframe\">\n",
       "  <thead>\n",
       "    <tr style=\"text-align: right;\">\n",
       "      <th></th>\n",
       "      <th>NAME</th>\n",
       "      <th>AGE</th>\n",
       "      <th>ORTALAMA</th>\n",
       "      <th>BOOL</th>\n",
       "      <th>ORTALAMA_NOT</th>\n",
       "      <th>NAME</th>\n",
       "      <th>AGE</th>\n",
       "      <th>ORTALAMA</th>\n",
       "      <th>BOOL</th>\n",
       "      <th>ORTALAMA_NOT</th>\n",
       "    </tr>\n",
       "  </thead>\n",
       "  <tbody>\n",
       "    <tr>\n",
       "      <th>0</th>\n",
       "      <td>asuman</td>\n",
       "      <td>23</td>\n",
       "      <td>78</td>\n",
       "      <td>True</td>\n",
       "      <td>ortalamanın üstünde</td>\n",
       "      <td>asuman</td>\n",
       "      <td>23</td>\n",
       "      <td>78</td>\n",
       "      <td>True</td>\n",
       "      <td>ortalamanın üstünde</td>\n",
       "    </tr>\n",
       "    <tr>\n",
       "      <th>1</th>\n",
       "      <td>enes</td>\n",
       "      <td>15</td>\n",
       "      <td>80</td>\n",
       "      <td>True</td>\n",
       "      <td>ortalamanın üstünde</td>\n",
       "      <td>enes</td>\n",
       "      <td>15</td>\n",
       "      <td>80</td>\n",
       "      <td>True</td>\n",
       "      <td>ortalamanın üstünde</td>\n",
       "    </tr>\n",
       "    <tr>\n",
       "      <th>2</th>\n",
       "      <td>elif</td>\n",
       "      <td>20</td>\n",
       "      <td>65</td>\n",
       "      <td>False</td>\n",
       "      <td>ortalamanın altında</td>\n",
       "      <td>elif</td>\n",
       "      <td>20</td>\n",
       "      <td>65</td>\n",
       "      <td>False</td>\n",
       "      <td>ortalamanın altında</td>\n",
       "    </tr>\n",
       "    <tr>\n",
       "      <th>3</th>\n",
       "      <td>can</td>\n",
       "      <td>34</td>\n",
       "      <td>90</td>\n",
       "      <td>True</td>\n",
       "      <td>ortalamanın üstünde</td>\n",
       "      <td>can</td>\n",
       "      <td>34</td>\n",
       "      <td>90</td>\n",
       "      <td>True</td>\n",
       "      <td>ortalamanın üstünde</td>\n",
       "    </tr>\n",
       "    <tr>\n",
       "      <th>4</th>\n",
       "      <td>zeynep</td>\n",
       "      <td>47</td>\n",
       "      <td>63</td>\n",
       "      <td>False</td>\n",
       "      <td>ortalamanın altında</td>\n",
       "      <td>zeynep</td>\n",
       "      <td>47</td>\n",
       "      <td>63</td>\n",
       "      <td>False</td>\n",
       "      <td>ortalamanın altında</td>\n",
       "    </tr>\n",
       "  </tbody>\n",
       "</table>\n",
       "</div>"
      ],
      "text/plain": [
       "     NAME  AGE  ORTALAMA   BOOL         ORTALAMA_NOT    NAME  AGE  ORTALAMA  \\\n",
       "0  asuman   23        78   True  ortalamanın üstünde  asuman   23        78   \n",
       "1    enes   15        80   True  ortalamanın üstünde    enes   15        80   \n",
       "2    elif   20        65  False  ortalamanın altında    elif   20        65   \n",
       "3     can   34        90   True  ortalamanın üstünde     can   34        90   \n",
       "4  zeynep   47        63  False  ortalamanın altında  zeynep   47        63   \n",
       "\n",
       "    BOOL         ORTALAMA_NOT  \n",
       "0   True  ortalamanın üstünde  \n",
       "1   True  ortalamanın üstünde  \n",
       "2  False  ortalamanın altında  \n",
       "3   True  ortalamanın üstünde  \n",
       "4  False  ortalamanın altında  "
      ]
     },
     "execution_count": 44,
     "metadata": {},
     "output_type": "execute_result"
    }
   ],
   "source": [
    "#iki veriyi birleştirmek istediğimizde concat fonksiyonu kullanırız ama burada x ekseni ya da y ekseni olara\n",
    "#seçmeliyiz.eğer axis = 0 yazılırsa satır axis = 1 olursa sütun seçilir\n",
    "data1 = tablo.head()     \n",
    "data2 = tablo.tail()\n",
    "data_concat = pd.concat([data1,data2],axis=1)#yatayda birleştirme yapıldı\n",
    "data_concat\n"
   ]
  },
  {
   "cell_type": "raw",
   "id": "0b246763",
   "metadata": {},
   "source": [
    "Transforming Data"
   ]
  },
  {
   "cell_type": "code",
   "execution_count": 50,
   "id": "1ab1e7ab",
   "metadata": {},
   "outputs": [
    {
     "data": {
      "text/html": [
       "<div>\n",
       "<style scoped>\n",
       "    .dataframe tbody tr th:only-of-type {\n",
       "        vertical-align: middle;\n",
       "    }\n",
       "\n",
       "    .dataframe tbody tr th {\n",
       "        vertical-align: top;\n",
       "    }\n",
       "\n",
       "    .dataframe thead th {\n",
       "        text-align: right;\n",
       "    }\n",
       "</style>\n",
       "<table border=\"1\" class=\"dataframe\">\n",
       "  <thead>\n",
       "    <tr style=\"text-align: right;\">\n",
       "      <th></th>\n",
       "      <th>NAME</th>\n",
       "      <th>AGE</th>\n",
       "      <th>ORTALAMA</th>\n",
       "      <th>BOOL</th>\n",
       "      <th>ORTALAMA_NOT</th>\n",
       "      <th>puan_eklemesi</th>\n",
       "      <th>EKLENMİS PUAN</th>\n",
       "      <th>apply_metodu</th>\n",
       "      <th>Age Değişimi</th>\n",
       "      <th>EKLENMİŞ PUAN</th>\n",
       "    </tr>\n",
       "  </thead>\n",
       "  <tbody>\n",
       "    <tr>\n",
       "      <th>0</th>\n",
       "      <td>asuman</td>\n",
       "      <td>23</td>\n",
       "      <td>78</td>\n",
       "      <td>True</td>\n",
       "      <td>ortalamanın üstünde</td>\n",
       "      <td>93</td>\n",
       "      <td>93</td>\n",
       "      <td>38</td>\n",
       "      <td>38</td>\n",
       "      <td>93</td>\n",
       "    </tr>\n",
       "    <tr>\n",
       "      <th>1</th>\n",
       "      <td>enes</td>\n",
       "      <td>15</td>\n",
       "      <td>80</td>\n",
       "      <td>True</td>\n",
       "      <td>ortalamanın üstünde</td>\n",
       "      <td>95</td>\n",
       "      <td>95</td>\n",
       "      <td>30</td>\n",
       "      <td>30</td>\n",
       "      <td>95</td>\n",
       "    </tr>\n",
       "    <tr>\n",
       "      <th>2</th>\n",
       "      <td>elif</td>\n",
       "      <td>20</td>\n",
       "      <td>65</td>\n",
       "      <td>False</td>\n",
       "      <td>ortalamanın altında</td>\n",
       "      <td>80</td>\n",
       "      <td>80</td>\n",
       "      <td>35</td>\n",
       "      <td>35</td>\n",
       "      <td>80</td>\n",
       "    </tr>\n",
       "    <tr>\n",
       "      <th>3</th>\n",
       "      <td>can</td>\n",
       "      <td>34</td>\n",
       "      <td>90</td>\n",
       "      <td>True</td>\n",
       "      <td>ortalamanın üstünde</td>\n",
       "      <td>105</td>\n",
       "      <td>105</td>\n",
       "      <td>49</td>\n",
       "      <td>49</td>\n",
       "      <td>105</td>\n",
       "    </tr>\n",
       "    <tr>\n",
       "      <th>4</th>\n",
       "      <td>zeynep</td>\n",
       "      <td>47</td>\n",
       "      <td>63</td>\n",
       "      <td>False</td>\n",
       "      <td>ortalamanın altında</td>\n",
       "      <td>78</td>\n",
       "      <td>78</td>\n",
       "      <td>62</td>\n",
       "      <td>62</td>\n",
       "      <td>78</td>\n",
       "    </tr>\n",
       "  </tbody>\n",
       "</table>\n",
       "</div>"
      ],
      "text/plain": [
       "     NAME  AGE  ORTALAMA   BOOL         ORTALAMA_NOT  puan_eklemesi  \\\n",
       "0  asuman   23        78   True  ortalamanın üstünde             93   \n",
       "1    enes   15        80   True  ortalamanın üstünde             95   \n",
       "2    elif   20        65  False  ortalamanın altında             80   \n",
       "3     can   34        90   True  ortalamanın üstünde            105   \n",
       "4  zeynep   47        63  False  ortalamanın altında             78   \n",
       "\n",
       "   EKLENMİS PUAN  apply_metodu  Age Değişimi  EKLENMİŞ PUAN  \n",
       "0             93            38            38             93  \n",
       "1             95            30            30             95  \n",
       "2             80            35            35             80  \n",
       "3            105            49            49            105  \n",
       "4             78            62            62             78  "
      ]
     },
     "execution_count": 50,
     "metadata": {},
     "output_type": "execute_result"
    }
   ],
   "source": [
    "tablo[\"EKLENMİŞ PUAN\"] = [each+15 for each in tablo.ORTALAMA]\n",
    "tablo"
   ]
  },
  {
   "cell_type": "code",
   "execution_count": null,
   "id": "8de5945c",
   "metadata": {},
   "outputs": [],
   "source": [
    "def mlt(age):\n",
    "    return age+15\n",
    "tablo[\"Age Değişimi\"] = tablo.AGE.apply(mlt)\n",
    "tablo"
   ]
  }
 ],
 "metadata": {
  "kernelspec": {
   "display_name": "Python 3 (ipykernel)",
   "language": "python",
   "name": "python3"
  },
  "language_info": {
   "codemirror_mode": {
    "name": "ipython",
    "version": 3
   },
   "file_extension": ".py",
   "mimetype": "text/x-python",
   "name": "python",
   "nbconvert_exporter": "python",
   "pygments_lexer": "ipython3",
   "version": "3.9.13"
  }
 },
 "nbformat": 4,
 "nbformat_minor": 5
}
